{
 "cells": [
  {
   "cell_type": "code",
   "execution_count": 2,
   "metadata": {},
   "outputs": [],
   "source": [
    "#Import the geemap and google earth engine module \n",
    "import geemap\n",
    "import ee"
   ]
  },
  {
   "cell_type": "code",
   "execution_count": 3,
   "metadata": {},
   "outputs": [
    {
     "data": {
      "application/vnd.jupyter.widget-view+json": {
       "model_id": "fcbed8a1f2a14abeb893f9c38459ce8d",
       "version_major": 2,
       "version_minor": 0
      },
      "text/plain": [
       "Map(center=[40, -100], controls=(WidgetControl(options=['position', 'transparent_bg'], widget=HBox(children=(T…"
      ]
     },
     "metadata": {},
     "output_type": "display_data"
    }
   ],
   "source": [
    "Map=geemap.Map()\n",
    "Map"
   ]
  },
  {
   "cell_type": "code",
   "execution_count": 63,
   "metadata": {},
   "outputs": [],
   "source": [
    "#Select Study Area\n",
    "\n",
    "feature = Map.draw_last_feature\n",
    "aoi = feature.geometry()\n",
    "\n",
    "# Define time interval for the Sentinel - 1 data\n",
    "\n",
    "#Before Flood (Start Date)\n",
    "before_start='2021-07-07'\n",
    "before_end='2021-07-12'\n",
    "\n",
    "#After Flood (End Date)\n",
    "after_start='2021-07-14'\n",
    "after_end='2021-07-16'\n",
    "\n",
    "#Parameters for SAR\n",
    "\n",
    "polarization =\"VH\";            #Preferred polarization for flood mapping, but you can also select 'VV'\n",
    "\n",
    "pass_direction=\"DESCENDING\";   #Or ASCENDING, consider changing this parameter if your image collection is empty\n",
    "\n",
    "difference_threshold=1.25;     #Threshold to be applied on the difference image, leave default\n",
    "\n",
    "#Dont make changes in the below section\n",
    "\n",
    "#Load and Select Sentinel-1 data by predefined level\n",
    "# Load and filter Sentinel-1 GRD data by predefined parameters\n",
    "collection= ee.ImageCollection('COPERNICUS/S1_GRD') \\\n",
    "  .filter(ee.Filter.eq('instrumentMode','IW')) \\\n",
    "  .filter(ee.Filter.listContains('transmitterReceiverPolarisation', polarization)) \\\n",
    "  .filter(ee.Filter.eq('orbitProperties_pass',pass_direction)) \\\n",
    "  .filter(ee.Filter.eq('resolution_meters',10)) \\\n",
    "  .filterBounds(aoi) \\\n",
    "  .select(polarization)\n",
    "\n",
    "# Select images by predefined dates\n",
    "before_collection = collection.filterDate(before_start, before_end)\n",
    "after_collection = collection.filterDate(after_start,after_end)\n",
    "\n",
    "# Create a mosaic of selected tiles and clip to study area\n",
    "before = before_collection.mosaic().clip(aoi)\n",
    "after = after_collection.mosaic().clip(aoi)\n",
    "\n",
    "# Apply reduce the radar speckle by smoothing\n",
    "smoothing_radius = 50\n",
    "before_filtered = before.focal_mean(smoothing_radius, 'circle', 'meters')\n",
    "after_filtered = after.focal_mean(smoothing_radius, 'circle', 'meters')\n",
    "\n",
    "#------------------------------- FLOOD EXTENT CALCULATION -------------------------------#\n",
    "\n",
    "# Calculate the difference between the before and after images\n",
    "difference = after_filtered.divide(before_filtered)\n",
    "\n",
    "# Apply the predefined difference-threshold and create the flood extent mask\n",
    "threshold = difference_threshold\n",
    "difference_binary = difference.gt(threshold)\n",
    "\n",
    "# Refine flood result using additional datasets\n",
    "\n",
    "# Include JRC layer on surface water seasonality to mask flood pixels from areas\n",
    "# of \"permanent\" water (where there is water > 10 months of the year)\n",
    "swater = ee.Image('JRC/GSW1_0/GlobalSurfaceWater').select('seasonality')\n",
    "swater_mask = swater.gte(10).updateMask(swater.gte(10))\n",
    "\n",
    "#Flooded layer where perennial water bodies (water > 10 mo/yr) is assigned a 0 value\n",
    "flooded_mask = difference_binary.where(swater_mask,0)\n",
    "# final flooded area without pixels in perennial waterbodies\n",
    "flooded = flooded_mask.updateMask(flooded_mask)\n",
    "\n",
    "# Compute connectivity of pixels to eliminate those connected to 8 or fewer neighbours\n",
    "# This operation reduces noise of the flood extent product\n",
    "connections = flooded.connectedPixelCount()\n",
    "flooded = flooded.updateMask(connections.gte(8))\n",
    "\n",
    "# Mask out areas with more than 5 percent slope using a Digital Elevation Model\n",
    "DEM = ee.Image('WWF/HydroSHEDS/03VFDEM')\n",
    "terrain = ee.Algorithms.Terrain(DEM)\n",
    "slope = terrain.select('slope')\n",
    "flooded = flooded.updateMask(slope.lt(5))\n",
    "\n",
    "# Calculate flood extent area\n",
    "# Create a raster layer containing the area information of each pixel\n",
    "flood_pixelarea = flooded.select(polarization) \\\n",
    "  .multiply(ee.Image.pixelArea())\n",
    "\n",
    "# Sum the areas of flooded pixels\n",
    "# default is set to 'bestEffort: True' in order to reduce compuation time, for a more\n",
    "# accurate result set bestEffort to False and increase 'maxPixels'.\n",
    "\n",
    "flood_stats= flood_pixelarea.reduceRegion(\n",
    "        reducer= ee.Reducer.sum(),\n",
    "        geometry= aoi,\n",
    "        scale= 30,\n",
    "        bestEffort= True\n",
    ")\n",
    "\n",
    "\n",
    "#Display\n",
    "#Before and after flood SAR mosaic\n",
    "Map.setCenter('aoi', 10)\n",
    "Map.addLayer(before_filtered, {'min':-25, 'max':0}, 'Before Flood',0)\n",
    "Map.addLayer(after_filtered, {'min':-25, 'max':0}, 'After Flood',1)\n",
    "Map.addLayer(difference,{'min':0, 'max':2},\"Difference Layer\",0)\n",
    "Map.addLayer(flooded,{'palette':\"0000FF\"},'Flooded areas')"
   ]
  }
 ],
 "metadata": {
  "kernelspec": {
   "display_name": "Python 3",
   "language": "python",
   "name": "python3"
  },
  "language_info": {
   "codemirror_mode": {
    "name": "ipython",
    "version": 3
   },
   "file_extension": ".py",
   "mimetype": "text/x-python",
   "name": "python",
   "nbconvert_exporter": "python",
   "pygments_lexer": "ipython3",
   "version": "3.8.7"
  }
 },
 "nbformat": 4,
 "nbformat_minor": 4
}
